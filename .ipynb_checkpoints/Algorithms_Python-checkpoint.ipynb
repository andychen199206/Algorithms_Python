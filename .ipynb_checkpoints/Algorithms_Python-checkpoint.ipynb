{
 "cells": [
  {
   "cell_type": "code",
   "execution_count": 27,
   "metadata": {},
   "outputs": [
    {
     "data": {
      "text/plain": [
       "'i'"
      ]
     },
     "execution_count": 27,
     "metadata": {},
     "output_type": "execute_result"
    }
   ],
   "source": [
    "#01.Detect first repeated character in a string: Solution1\n",
    "def first_repeat(str):\n",
    "    for index, ch in enumerate(str):\n",
    "        if str[:index+1].count(ch)>1:\n",
    "            return ch\n",
    "    return '\\0'\n",
    "first_repeat('iloveindeedindeed')"
   ]
  },
  {
   "cell_type": "code",
   "execution_count": 28,
   "metadata": {},
   "outputs": [
    {
     "data": {
      "text/plain": [
       "'i'"
      ]
     },
     "execution_count": 28,
     "metadata": {},
     "output_type": "execute_result"
    }
   ],
   "source": [
    "#01.Detect first repeated character in a string: Solution2\n",
    "def first(str):\n",
    "    h={}\n",
    "    for ch in str:\n",
    "        if ch in h:\n",
    "            return ch\n",
    "        else:\n",
    "            h[ch]=0\n",
    "    return'\\0'\n",
    "first('iloveindeed')"
   ]
  },
  {
   "cell_type": "code",
   "execution_count": 29,
   "metadata": {},
   "outputs": [
    {
     "data": {
      "text/plain": [
       "2"
      ]
     },
     "execution_count": 29,
     "metadata": {},
     "output_type": "execute_result"
    }
   ],
   "source": [
    "#02.Detect a position in a list to make the sum of the right equals to the sum of the left:\n",
    "def position(li):\n",
    "    for i in range(len(li)):\n",
    "        left = li[:i]\n",
    "        right= li[i+1:]\n",
    "        lsum = sum(left)\n",
    "        rsum = sum(right)\n",
    "        if lsum == rsum:\n",
    "            return i\n",
    "    return 'N'  ##A return statement ends the execution of the function call and \"returns\" the result\n",
    "position([1,2,1,1,2])"
   ]
  },
  {
   "cell_type": "code",
   "execution_count": 30,
   "metadata": {},
   "outputs": [
    {
     "data": {
      "text/plain": [
       "' bdfkc'"
      ]
     },
     "execution_count": 30,
     "metadata": {},
     "output_type": "execute_result"
    }
   ],
   "source": [
    "#03.Longest common subsquence\n",
    "def lcs(a,b):\n",
    "    if len(a)==0 or len(b)==0:\n",
    "        return ' '\n",
    "    elif a[-1]==b[-1]:\n",
    "        return lcs(a[:-1],b[:-1])+a[-1]\n",
    "    else:\n",
    "        sol_a = lcs(a[:-1],b)\n",
    "        sol_b = lcs(a,b[:-1])\n",
    "        if len(sol_a)>len(sol_b):\n",
    "            return sol_a\n",
    "        else:\n",
    "            return sol_b\n",
    "        \n",
    "k = 'abcdfkc'\n",
    "j = 'badfkcc'\n",
    "lcs(k,j)"
   ]
  },
  {
   "cell_type": "code",
   "execution_count": 7,
   "metadata": {},
   "outputs": [
    {
     "data": {
      "text/plain": [
       "[0, 4]"
      ]
     },
     "execution_count": 7,
     "metadata": {},
     "output_type": "execute_result"
    }
   ],
   "source": [
    "#04.Two Sum\n",
    "\n",
    "#Given an array of integers, return indices of the two numbers such that they add up to a specific target.\n",
    "#You may assume that each input would have exactly one solution, and you may not use the same element twice.\n",
    "\n",
    "#Example:\n",
    "#Given nums = [2, 7, 11, 15], target = 9,\n",
    "#Because nums[0] + nums[1] = 2 + 7 = 9,\n",
    "#return [0, 1].\n",
    "\n",
    "def twosum(li, target):\n",
    "    for a in range(len(li)):\n",
    "        if (target - li[a] in li) & (target - li[a] != li[a]):\n",
    "            return [a,li.index(target-li[a])]  ##list.index(element) to return the index of the element\n",
    "    return 'N'\n",
    "\n",
    "li=[2, 8, 8, 15,7]\n",
    "target=9\n",
    "twosum(li,target)"
   ]
  },
  {
   "cell_type": "code",
   "execution_count": 10,
   "metadata": {},
   "outputs": [
    {
     "data": {
      "text/plain": [
       "-6543"
      ]
     },
     "execution_count": 10,
     "metadata": {},
     "output_type": "execute_result"
    }
   ],
   "source": [
    "#05.Reverse Integer\n",
    "\n",
    "#Given a 32-bit signed integer, reverse digits of an integer.\n",
    "\n",
    "#Example 1:\n",
    "#Input: 123\n",
    "#Output: 321\n",
    "\n",
    "#Note:Assume we are dealing with an environment which could only store integers within the 32-bit signed integer range: [−231,  231 − 1]. \n",
    "#For the purpose of this problem, assume that your function returns 0 when the reversed integer overflows.\n",
    "\n",
    "def reverse(x): \n",
    "    # handle 32 bit overflow \n",
    "    if x >= 2**31-1 or x <= -2**31: \n",
    "        return 0\n",
    "    # 32 bit signed integer\n",
    "    else:\n",
    "        # handle positive numbers  \n",
    "        if x >= 0:  \n",
    "            a =  int(str(x)[::-1])  \n",
    "            return a\n",
    "#Notes:when you do a[::-1] , it starts from the end, towards the first, taking each element. So it reverses a. This is applicable for lists/tuples as well.\n",
    "        # handle negative numbers\n",
    "        elif x < 0:    \n",
    "            a = -1 * int(str(x*-1)[::-1])  \n",
    "            return a\n",
    "\n",
    "x=-3456\n",
    "reverse(x)"
   ]
  },
  {
   "cell_type": "code",
   "execution_count": 1,
   "metadata": {},
   "outputs": [
    {
     "data": {
      "text/plain": [
       "True"
      ]
     },
     "execution_count": 1,
     "metadata": {},
     "output_type": "execute_result"
    }
   ],
   "source": [
    "#06.Palindrome Number\n",
    "#Determine whether an integer is a palindrome. An integer is a palindrome when it reads the same backward as forward.\n",
    "\n",
    "#Example 1:\n",
    "#Input: 121\n",
    "#Output: true\n",
    "\n",
    "def isPalindrome(x):\n",
    "#Notes:when you do a[::-1] , it starts from the end, towards the first, taking each element. So it reverses a. This is applicable for lists/tuples as well.\n",
    "    return str(x) == str(x)[::-1] \n",
    "x=98789\n",
    "isPalindrome(x)\n",
    "\n",
    "#Coud you solve it without converting the integer to a string?"
   ]
  },
  {
   "cell_type": "code",
   "execution_count": 19,
   "metadata": {},
   "outputs": [],
   "source": [
    "#07.Roman to Integer"
   ]
  },
  {
   "cell_type": "code",
   "execution_count": 20,
   "metadata": {},
   "outputs": [],
   "source": [
    "#08.Longest Common Prefix"
   ]
  },
  {
   "cell_type": "code",
   "execution_count": null,
   "metadata": {},
   "outputs": [],
   "source": [
    "#09.Valid Parentheses"
   ]
  },
  {
   "cell_type": "code",
   "execution_count": null,
   "metadata": {},
   "outputs": [],
   "source": [
    "#10.Merge two sorted lists"
   ]
  },
  {
   "cell_type": "code",
   "execution_count": null,
   "metadata": {},
   "outputs": [],
   "source": [
    "#11.Remove Duplicates from Sorted Array"
   ]
  },
  {
   "cell_type": "code",
   "execution_count": null,
   "metadata": {},
   "outputs": [],
   "source": [
    "#12.Remove Element"
   ]
  },
  {
   "cell_type": "code",
   "execution_count": null,
   "metadata": {},
   "outputs": [],
   "source": [
    "#13.Implement strStr()"
   ]
  },
  {
   "cell_type": "code",
   "execution_count": null,
   "metadata": {},
   "outputs": [],
   "source": [
    "#14.Search Insert Position"
   ]
  },
  {
   "cell_type": "code",
   "execution_count": null,
   "metadata": {},
   "outputs": [],
   "source": [
    "#15.Count and Say"
   ]
  },
  {
   "cell_type": "code",
   "execution_count": 21,
   "metadata": {},
   "outputs": [],
   "source": [
    "#16.Maximum Subarray"
   ]
  },
  {
   "cell_type": "code",
   "execution_count": null,
   "metadata": {},
   "outputs": [],
   "source": [
    "#17.Length of Last Word"
   ]
  },
  {
   "cell_type": "code",
   "execution_count": null,
   "metadata": {},
   "outputs": [],
   "source": [
    "#18.Plus One"
   ]
  },
  {
   "cell_type": "code",
   "execution_count": 12,
   "metadata": {},
   "outputs": [
    {
     "name": "stdout",
     "output_type": "stream",
     "text": [
      "<built-in method index of list object at 0x000001A005AB4B48>\n"
     ]
    }
   ],
   "source": [
    "#19.Add Binary"
   ]
  },
  {
   "cell_type": "code",
   "execution_count": null,
   "metadata": {},
   "outputs": [],
   "source": []
  }
 ],
 "metadata": {
  "kernelspec": {
   "display_name": "Python 3",
   "language": "python",
   "name": "python3"
  },
  "language_info": {
   "codemirror_mode": {
    "name": "ipython",
    "version": 3
   },
   "file_extension": ".py",
   "mimetype": "text/x-python",
   "name": "python",
   "nbconvert_exporter": "python",
   "pygments_lexer": "ipython3",
   "version": "3.7.1"
  }
 },
 "nbformat": 4,
 "nbformat_minor": 2
}
